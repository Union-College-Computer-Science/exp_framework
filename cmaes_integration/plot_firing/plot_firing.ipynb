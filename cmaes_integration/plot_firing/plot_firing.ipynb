{
 "cells": [
  {
   "cell_type": "markdown",
   "metadata": {},
   "source": [
    "## Plotting the firing of neural network per voxel"
   ]
  },
  {
   "cell_type": "code",
   "execution_count": 145,
   "metadata": {},
   "outputs": [],
   "source": [
    "import os\n",
    "from pathlib import Path\n",
    "import numpy as np\n",
    "import glob\n",
    "import pandas as pd\n",
    "import matplotlib.pyplot as plt\n",
    "\n",
    "FILEFOLDER = \"data\"\n",
    "ITERS = 1000\n"
   ]
  },
  {
   "cell_type": "code",
   "execution_count": 146,
   "metadata": {},
   "outputs": [],
   "source": [
    "def get_latest():\n",
    "    \"\"\"\n",
    "    Finds the most recently created file in a folder matching a given pattern.\n",
    "    \n",
    "    Returns:\n",
    "        str: The path to the most recently created file, or None if no files match the pattern.\n",
    "    \"\"\"\n",
    "    this_dir = Path.cwd()\n",
    "    files = glob.glob(os.path.join(this_dir, FILEFOLDER) + \"/*.csv\")\n",
    "    if not files:\n",
    "        return None\n",
    "    latest_file = max(files, key=os.path.getctime).split(\"/\")[-1]\n",
    "    return latest_file"
   ]
  },
  {
   "cell_type": "code",
   "execution_count": 147,
   "metadata": {},
   "outputs": [],
   "source": [
    "def plot_data(gen):\n",
    "    \"\"\"\n",
    "    Plots the data from the most recently created file in the data folder.\n",
    "    \"\"\"\n",
    "    latest_file = get_latest()\n",
    "    if latest_file is None:\n",
    "        print(\"No files found.\")\n",
    "        print(\"File found: \", latest_file)\n",
    "        return\n",
    "    \n",
    "    file_path = os.path.join(FILEFOLDER, latest_file)\n",
    "    data = pd.read_csv(file_path)\n",
    "\n",
    "    start_row = gen * ITERS\n",
    "    end_row = start_row + ITERS\n",
    "\n",
    "    data_to_plot = data.iloc[start_row:end_row]\n",
    "\n",
    "    if data_to_plot.empty:\n",
    "        print(\"No data to plot for generation.\")\n",
    "        return\n",
    "\n",
    "    plt.figure(figsize=(10, 6))\n",
    "    for col in data_to_plot.columns:\n",
    "        rows =  np.arange(1, (len(data_to_plot[col]) + 1))\n",
    "        plt.plot(rows, data_to_plot[col], label=col)\n",
    "    \n",
    "    # Add labels and title\n",
    "    plt.xlabel(\"Time Step\")\n",
    "    plt.ylabel(\"SNN Value\")\n",
    "    plt.title(f\"SNN values vs Time Steps from {latest_file} - Generation {gen}\")\n",
    "    plt.legend()\n",
    "    plt.grid(True)\n",
    "    plt.show()\n"
   ]
  },
  {
   "cell_type": "code",
   "execution_count": 148,
   "metadata": {},
   "outputs": [
    {
     "name": "stdout",
     "output_type": "stream",
     "text": [
      "No data to plot for generation.\n"
     ]
    }
   ],
   "source": [
    "GENERATION = 1\n",
    "\n",
    "plot_data(GENERATION)"
   ]
  }
 ],
 "metadata": {
  "kernelspec": {
   "display_name": ".venv",
   "language": "python",
   "name": "python3"
  },
  "language_info": {
   "codemirror_mode": {
    "name": "ipython",
    "version": 3
   },
   "file_extension": ".py",
   "mimetype": "text/x-python",
   "name": "python",
   "nbconvert_exporter": "python",
   "pygments_lexer": "ipython3",
   "version": "3.10.16"
  }
 },
 "nbformat": 4,
 "nbformat_minor": 2
}
